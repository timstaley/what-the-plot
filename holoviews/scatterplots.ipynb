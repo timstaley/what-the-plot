{
 "cells": [
  {
   "cell_type": "markdown",
   "metadata": {},
   "source": [
    "# Scatterplots\n",
    "## Via Holoviews\n"
   ]
  },
  {
   "cell_type": "markdown",
   "metadata": {},
   "source": [
    "### Preamble:"
   ]
  },
  {
   "cell_type": "code",
   "execution_count": null,
   "metadata": {},
   "outputs": [],
   "source": [
    "import numpy as np\n",
    "import pandas as pd"
   ]
  },
  {
   "cell_type": "code",
   "execution_count": null,
   "metadata": {},
   "outputs": [],
   "source": [
    "import holoviews as hv\n",
    "hv.extension('bokeh')\n",
    "renderer = hv.renderer('bokeh')\n",
    "renderer.size = 150"
   ]
  },
  {
   "cell_type": "markdown",
   "metadata": {},
   "source": [
    "### Data"
   ]
  },
  {
   "cell_type": "code",
   "execution_count": null,
   "metadata": {},
   "outputs": [],
   "source": [
    "df = pd.read_csv('../data/iris.csv')\n",
    "df.drop(columns='species_code', inplace=True)\n",
    "df.head()"
   ]
  },
  {
   "cell_type": "markdown",
   "metadata": {},
   "source": [
    "## Scatter Plots, declarative style\n",
    "### Graph-elements, not pixel-maps\n",
    "First things first; a basic scatterplot transform. We pass in a data source (a dataframe in this case) and the 'kdims', the key-dimensions that we'll use to define the x and y coord for each point."
   ]
  },
  {
   "cell_type": "code",
   "execution_count": null,
   "metadata": {},
   "outputs": [],
   "source": [
    "points = hv.Points(df, kdims=['sepal_width', 'petal_length']).options(size=5)\n",
    "points"
   ]
  },
  {
   "cell_type": "markdown",
   "metadata": {},
   "source": [
    "Note, we can change properties on the fly; this is data-with-representation, not a pixel-map:"
   ]
  },
  {
   "cell_type": "code",
   "execution_count": null,
   "metadata": {},
   "outputs": [],
   "source": [
    "points.options(size=10, color='orange')"
   ]
  },
  {
   "cell_type": "markdown",
   "metadata": {},
   "source": [
    "How does that work? By attaching the data to the plot element..."
   ]
  },
  {
   "cell_type": "code",
   "execution_count": null,
   "metadata": {},
   "outputs": [],
   "source": [
    "points.data.head()"
   ]
  },
  {
   "cell_type": "markdown",
   "metadata": {},
   "source": [
    "Note that we can explictly choose other columns as 'vdims', values that will be attached to each point, like so:"
   ]
  },
  {
   "cell_type": "code",
   "execution_count": null,
   "metadata": {},
   "outputs": [],
   "source": [
    "_ = hv.Points(df, kdims=['sepal_width', 'petal_length'], vdims=['species'])"
   ]
  },
  {
   "cell_type": "markdown",
   "metadata": {},
   "source": [
    "By default, all non-key dims are stored as value dims:"
   ]
  },
  {
   "cell_type": "code",
   "execution_count": null,
   "metadata": {},
   "outputs": [],
   "source": [
    "df.agg(('min','max'))"
   ]
  },
  {
   "cell_type": "markdown",
   "metadata": {},
   "source": [
    "And we can use these to control the properties of each point..."
   ]
  },
  {
   "cell_type": "code",
   "execution_count": null,
   "metadata": {},
   "outputs": [],
   "source": [
    "%opts Points (cmap='tab10' size=15)  [tools=['hover']]\n",
    "points.options(color_index='species', size_index='petal_width')"
   ]
  },
  {
   "cell_type": "markdown",
   "metadata": {},
   "source": [
    "## Building layouts\n",
    "OK, we've probably stretched the data-content of a single axis as far as is sensible.\n",
    "Now, let's pull together subplots and **plot all the things!**"
   ]
  },
  {
   "cell_type": "code",
   "execution_count": null,
   "metadata": {},
   "outputs": [],
   "source": [
    "import itertools\n",
    "pairings = list(itertools.combinations(df.columns[:4], 2))\n",
    "pairings"
   ]
  },
  {
   "cell_type": "code",
   "execution_count": null,
   "metadata": {},
   "outputs": [],
   "source": [
    "all_the_things = [\n",
    "    hv.Points(df, kdims=list(p)[::-1]).options(\n",
    "        color_index='species').relabel(f'{p[1]} vs {p[0]}')\n",
    "    for p in pairings\n",
    "]"
   ]
  },
  {
   "cell_type": "code",
   "execution_count": null,
   "metadata": {},
   "outputs": [],
   "source": [
    "all_the_things"
   ]
  },
  {
   "cell_type": "code",
   "execution_count": null,
   "metadata": {},
   "outputs": [],
   "source": [
    "%output size=100"
   ]
  },
  {
   "cell_type": "code",
   "execution_count": null,
   "metadata": {},
   "outputs": [],
   "source": [
    "%%opts Points [tools=['hover', 'lasso_select'] fontsize={'legend':8} show_legend=False  padding=0.1]\n",
    "%%opts Points (size=6 alpha=0.7 selection_alpha=1. nonselection_alpha=0.1)\n",
    "# %%opts Points [tools=['hover', 'lasso_select'] fontsize={'legend':8} show_legend=False  ] (size=6)\n",
    "layout=hv.Layout(all_the_things).options(shared_datasource=True).cols(3).relabel('The Iris Dataset, Holoviews style')\n",
    "layout"
   ]
  },
  {
   "cell_type": "markdown",
   "metadata": {},
   "source": [
    "## Exporting\n",
    "Note, this isn't only interactive in the notebook. We can save it as an interactive, standalone HTML plot -though this might get large, since it stores all the source-data!"
   ]
  },
  {
   "cell_type": "code",
   "execution_count": null,
   "metadata": {},
   "outputs": [],
   "source": [
    "renderer.save(layout, 'all_the_iris')"
   ]
  },
  {
   "cell_type": "markdown",
   "metadata": {},
   "source": [
    "### Footnotes: padding, alpha\n",
    " * Note that you need to be running the master (dev!) version of holoviews for the `padding` keyword to work, as it was only merged in 6 days ago at time of writing:\n",
    "https://github.com/ioam/holoviews/pull/2293\n",
    "\n",
    "* If you tweak the `alpha` transparency of the Points, then **selection will appear to stop working** unless you also tweak the various `selection_alpha` and `nonselection_alpha` options, cf [this issue](https://github.com/ioam/holoviews/issues/2600#issuecomment-384715709).\n",
    "\n",
    "Still a few rough edges!"
   ]
  }
 ],
 "metadata": {
  "language_info": {
   "name": "python",
   "pygments_lexer": "ipython3"
  }
 },
 "nbformat": 4,
 "nbformat_minor": 1
}
