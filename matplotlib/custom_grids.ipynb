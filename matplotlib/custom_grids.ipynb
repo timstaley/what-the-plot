{
 "cells": [
  {
   "cell_type": "markdown",
   "metadata": {},
   "source": [
    "# Custom grid plots\n",
    "## Via Matplotlib and friends\n"
   ]
  },
  {
   "cell_type": "markdown",
   "metadata": {},
   "source": [
    "### Preamble:"
   ]
  },
  {
   "cell_type": "code",
   "execution_count": null,
   "metadata": {},
   "outputs": [],
   "source": [
    "import numpy as np\n",
    "import pandas as pd\n",
    "import matplotlib.pyplot as plt\n",
    "import seaborn as sns"
   ]
  },
  {
   "cell_type": "code",
   "execution_count": null,
   "metadata": {},
   "outputs": [],
   "source": [
    "# Tweak the plot sizing:\n",
    "plt.rcParams['figure.figsize']=(8,6)\n",
    "# plt.rcParams['figure.dpi']=100\n",
    "\n",
    "# And also tweak the font-sizing via a seaborn shortcut:\n",
    "sns.set_context('notebook')"
   ]
  },
  {
   "cell_type": "markdown",
   "metadata": {},
   "source": [
    "### Data"
   ]
  },
  {
   "cell_type": "code",
   "execution_count": null,
   "metadata": {},
   "outputs": [],
   "source": [
    "df = pd.read_csv('../data/iris.csv')\n",
    "features_df = df[df.columns[:4]]\n",
    "features_df.columns.tolist()"
   ]
  },
  {
   "cell_type": "markdown",
   "metadata": {},
   "source": [
    "### Custom grids \n",
    "What if you want a joint-plot, but with your data split into categories? (Uh-oh!)\n",
    "Time to get busy with grids."
   ]
  },
  {
   "cell_type": "code",
   "execution_count": null,
   "metadata": {},
   "outputs": [],
   "source": [
    "x_var, y_var = 'sepal_width', 'petal_length'"
   ]
  },
  {
   "cell_type": "code",
   "execution_count": null,
   "metadata": {},
   "outputs": [],
   "source": [
    "import matplotlib.gridspec as gridspec\n",
    "gs = gridspec.GridSpec(2,2, \n",
    "                       height_ratios=[2, 5],\n",
    "                       width_ratios=[5,2],\n",
    "                       )\n",
    "ax_marg_x = plt.subplot(gs[0, 0]);\n",
    "ax_marg_y = plt.subplot(gs[1, 1])\n",
    "ax_joint = plt.subplot(gs[1, 0], sharex=ax_marg_x, sharey=ax_marg_y)\n",
    "sns.despine(plt.gcf())\n",
    "\n",
    "sns.scatterplot(x_var, y_var, data=df, \n",
    "                     hue='species', style='species',\n",
    "                    ax = ax_joint, legend='full'\n",
    "                    )\n",
    "\n",
    "\n",
    "for species_name, subgroup_df in df.groupby(df.species):\n",
    "    sns.kdeplot(subgroup_df[y_var],  shade=True,             \n",
    "                label=species_name, vertical=True, \n",
    "                ax = ax_marg_y, legend=False\n",
    "               )\n",
    "    sns.kdeplot(subgroup_df[x_var],  shade=True,             \n",
    "                label=species_name, vertical=False, \n",
    "                ax = ax_marg_x, legend=False\n",
    "               )\n",
    "\n",
    "plt.tight_layout()"
   ]
  }
 ],
 "metadata": {
  "language_info": {
   "name": "python",
   "pygments_lexer": "ipython3"
  }
 },
 "nbformat": 4,
 "nbformat_minor": 1
}
