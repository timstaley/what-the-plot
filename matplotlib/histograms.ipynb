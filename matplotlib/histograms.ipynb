{
 "cells": [
  {
   "cell_type": "code",
   "execution_count": null,
   "metadata": {},
   "outputs": [],
   "source": [
    "from IPython.display import display_html, display, Image"
   ]
  },
  {
   "cell_type": "markdown",
   "metadata": {},
   "source": [
    "# Histograms, subplots, and distributions\n",
    "## Via Matplotlib and friends\n"
   ]
  },
  {
   "cell_type": "markdown",
   "metadata": {},
   "source": [
    "### Preamble:"
   ]
  },
  {
   "cell_type": "code",
   "execution_count": null,
   "metadata": {},
   "outputs": [],
   "source": [
    "import numpy as np\n",
    "import pandas as pd\n",
    "import matplotlib.pyplot as plt\n",
    "import seaborn as sns\n",
    "import whattheplot as wtp"
   ]
  },
  {
   "cell_type": "markdown",
   "metadata": {},
   "source": [
    "Hint: setting the `%matplotlib inline` magic will reset your rcParams - so set them afterwards!"
   ]
  },
  {
   "cell_type": "code",
   "execution_count": null,
   "metadata": {},
   "outputs": [],
   "source": [
    "%matplotlib inline"
   ]
  },
  {
   "cell_type": "code",
   "execution_count": null,
   "metadata": {},
   "outputs": [],
   "source": [
    "# Tweak the plot sizing:\n",
    "plt.rcParams['figure.figsize']=(8,6)\n",
    "# plt.rcParams['figure.dpi']=100\n",
    "\n",
    "# And also tweak the font-sizing via a seaborn shortcut:\n",
    "sns.set_context('talk')"
   ]
  },
  {
   "cell_type": "markdown",
   "metadata": {},
   "source": [
    "### Data"
   ]
  },
  {
   "cell_type": "code",
   "execution_count": null,
   "metadata": {},
   "outputs": [],
   "source": [
    "df = wtp.data.load_iris()\n",
    "df.head()"
   ]
  },
  {
   "cell_type": "markdown",
   "metadata": {},
   "source": [
    "### Profiling your data with histograms\n",
    "Histograms can give you a useful first summary view of your data - do I have crazy outliers? Is my data normally distributed? But [binning can obscure or exaggerate features](https://www.answerminer.com/blog/binning-guide-ideal-histogram), so be aware.\n",
    "\n",
    "We'll start with Pandas because it's super convenient here:"
   ]
  },
  {
   "cell_type": "code",
   "execution_count": null,
   "metadata": {},
   "outputs": [],
   "source": [
    "features_df = df[df.columns[:4]]"
   ]
  },
  {
   "cell_type": "code",
   "execution_count": null,
   "metadata": {},
   "outputs": [],
   "source": [
    "features_df.hist(bins=25);\n",
    "plt.tight_layout() # Avoids overlapping annotations"
   ]
  },
  {
   "cell_type": "markdown",
   "metadata": {},
   "source": [
    "### Subplots\n",
    "What if we want a bit more fine control over the subplot layout? Maybe you'd like your axes all in a column?\n",
    "\n",
    "#### Let's use  [subplots](https://matplotlib.org/gallery/subplots_axes_and_figures/subplots_demo.html) \n",
    "We'll start off by reproducing the example above:"
   ]
  },
  {
   "cell_type": "code",
   "execution_count": null,
   "metadata": {},
   "outputs": [],
   "source": [
    "fig, axes = plt.subplots(ncols=1, nrows=len(features_df.columns), \n",
    "                         sharex=True,\n",
    "                         figsize=(4,9))\n",
    "for idx, colname in enumerate(features_df.columns):\n",
    "    ax = axes[idx]\n",
    "    ax.hist(features_df[colname], bins=25)\n",
    "    ax.set_title(colname)\n",
    "fig.tight_layout()"
   ]
  },
  {
   "cell_type": "markdown",
   "metadata": {},
   "source": [
    "Next, let's compare across flower-types. (This is a bit unwieldy, we'll find a better alternative in a moment)"
   ]
  },
  {
   "cell_type": "code",
   "execution_count": null,
   "metadata": {},
   "outputs": [],
   "source": [
    "fig, axes = plt.subplots(ncols=1, nrows=len(df.target.unique()), \n",
    "                         sharex=True,\n",
    "                         figsize=(4,9))\n",
    "axes_iter = iter(axes)\n",
    "col_to_plot = 'sepal_length'\n",
    "for target_name, subgroup_df in df.groupby(df.target):\n",
    "    ax = next(axes_iter)\n",
    "    ax.hist(subgroup_df[col_to_plot], bins=15)\n",
    "    ax.set_xlabel(col_to_plot)\n",
    "    ax.set_title(target_name)\n",
    "fig.tight_layout()"
   ]
  },
  {
   "cell_type": "markdown",
   "metadata": {},
   "source": [
    "Again, Seaborn has a super-convenient way to do this, *if* you can remember the magic incantation. It will also attempt to pick a suitable number of bins for you:"
   ]
  },
  {
   "cell_type": "code",
   "execution_count": null,
   "metadata": {},
   "outputs": [],
   "source": [
    "facet_grid = sns.FacetGrid(df, row='target').map(plt.hist, 'sepal_length')"
   ]
  },
  {
   "cell_type": "markdown",
   "metadata": {},
   "source": [
    "### KDEs"
   ]
  },
  {
   "cell_type": "markdown",
   "metadata": {},
   "source": [
    "What if we wanted to compare the subgroup-distributions directly? We can overlay histograms, but the plots can be very hard to read, made worse by the fact that they're jagged:"
   ]
  },
  {
   "cell_type": "code",
   "execution_count": null,
   "metadata": {},
   "outputs": [],
   "source": [
    "ax = plt.gca()\n",
    "col_to_plot = 'sepal_length'\n",
    "for target_name, subgroup_df in df.groupby(df.target):\n",
    "    ax.hist(subgroup_df[col_to_plot], bins=15, alpha=0.5, label=target_name)\n",
    "ax.set_xlabel(col_to_plot)\n",
    "ax.legend()\n",
    "ax.set_title('Overlaid histograms');"
   ]
  },
  {
   "cell_type": "markdown",
   "metadata": {},
   "source": [
    "Instead, we can use a \n",
    "[Kernel Density Estimate](https://en.wikipedia.org/wiki/Kernel_density_estimation) \n",
    "([nice explanation here](https://mathisonian.github.io/kde/)) to get a smooth line representing the estimated density of our data.\n",
    "\n",
    "You can do this manually via \n",
    "[SciPy](https://docs.scipy.org/doc/scipy/reference/generated/scipy.stats.gaussian_kde.html) or \n",
    "[Scikit-Learn](http://scikit-learn.org/stable/modules/generated/sklearn.neighbors.KernelDensity.html#sklearn.neighbors.KernelDensity), \n",
    "but Seaborn makes this snappy via \n",
    "[kdeplot](https://seaborn.pydata.org/generated/seaborn.kdeplot.html)\n",
    "and [distplot](http://seaborn.pydata.org/generated/seaborn.distplot.html#seaborn.distplot)."
   ]
  },
  {
   "cell_type": "code",
   "execution_count": null,
   "metadata": {},
   "outputs": [],
   "source": [
    "ax = plt.gca()\n",
    "col_to_plot = 'sepal_length'\n",
    "for target_name, subgroup_df in df.groupby(df.target):\n",
    "    sns.kdeplot(subgroup_df[col_to_plot],  shade=True,             \n",
    "                label=target_name\n",
    "               )\n",
    "ax.set_xlabel(col_to_plot)\n",
    "ax.legend()\n",
    "ax.set_title('Overlaid KDE plots');"
   ]
  }
 ],
 "metadata": {
  "language_info": {
   "name": "python",
   "pygments_lexer": "ipython3"
  }
 },
 "nbformat": 4,
 "nbformat_minor": 1
}
