{
 "cells": [
  {
   "cell_type": "code",
   "execution_count": null,
   "metadata": {},
   "outputs": [],
   "source": [
    "from IPython.display import display_html, display, Image"
   ]
  },
  {
   "cell_type": "markdown",
   "metadata": {},
   "source": [
    "# Joint plots\n",
    "## Via Matplotlib and friends\n"
   ]
  },
  {
   "cell_type": "markdown",
   "metadata": {},
   "source": [
    "### Preamble:"
   ]
  },
  {
   "cell_type": "code",
   "execution_count": null,
   "metadata": {},
   "outputs": [],
   "source": [
    "import numpy as np\n",
    "import pandas as pd\n",
    "import matplotlib.pyplot as plt\n",
    "import seaborn as sns\n",
    "import whattheplot as wtp"
   ]
  },
  {
   "cell_type": "code",
   "execution_count": null,
   "metadata": {},
   "outputs": [],
   "source": [
    "%matplotlib inline"
   ]
  },
  {
   "cell_type": "code",
   "execution_count": null,
   "metadata": {},
   "outputs": [],
   "source": [
    "# Tweak the plot sizing:\n",
    "plt.rcParams['figure.figsize']=(8,6)\n",
    "# plt.rcParams['figure.dpi']=100\n",
    "\n",
    "# And also tweak the font-sizing via a seaborn shortcut:\n",
    "sns.set_context('talk')"
   ]
  },
  {
   "cell_type": "markdown",
   "metadata": {},
   "source": [
    "### Data"
   ]
  },
  {
   "cell_type": "code",
   "execution_count": null,
   "metadata": {},
   "outputs": [],
   "source": [
    "df = wtp.data.load_iris()\n",
    "features_df = df[df.columns[:4]]\n",
    "features_df.columns.tolist()"
   ]
  },
  {
   "cell_type": "markdown",
   "metadata": {},
   "source": [
    "### Joint plots\n",
    "Often with a multi-dimensional dataset (particularly of the multi-class variety), it's useful to get an overview of how the features are distributed and correlated. \n",
    "\n",
    "For this - especially when dealing with larger datasets - joint plots which combine scatterplots, histograms and KDE's / contour-plots can be very useful.\n",
    "\n",
    "Seaborn excels in this arena - so long as you want one of the ready-made options - and we'll jump right in with it (we'll reproduce some results in Matplotlib at the end for comparison)."
   ]
  },
  {
   "cell_type": "code",
   "execution_count": null,
   "metadata": {},
   "outputs": [],
   "source": [
    "x_var, y_var = 'sepal_width', 'petal_length'"
   ]
  },
  {
   "cell_type": "code",
   "execution_count": null,
   "metadata": {},
   "outputs": [],
   "source": [
    "sns.jointplot(x_var, y_var, data=df, kind='scatter')"
   ]
  },
  {
   "cell_type": "markdown",
   "metadata": {},
   "source": [
    "Those scattered points are getting a bit too close to interpret, and the histograms are chunky.\n",
    "Let's flip a switch:"
   ]
  },
  {
   "cell_type": "code",
   "execution_count": null,
   "metadata": {},
   "outputs": [],
   "source": [
    "sns.jointplot(x_var, y_var, data=df, kind='kde')"
   ]
  },
  {
   "cell_type": "markdown",
   "metadata": {},
   "source": [
    "Nice, but it doesn't tell us about the class-breakdown. For that, we need the 'pairplot' routine, \n",
    "which is quite snazzy (though note, by default the off-diagonal subplots are just mirror-images!)"
   ]
  },
  {
   "cell_type": "code",
   "execution_count": null,
   "metadata": {},
   "outputs": [],
   "source": [
    "sns.pairplot(df, hue='target', vars=features_df.columns)"
   ]
  },
  {
   "cell_type": "code",
   "execution_count": null,
   "metadata": {},
   "outputs": [],
   "source": []
  }
 ],
 "metadata": {
  "language_info": {
   "name": "python",
   "pygments_lexer": "ipython3"
  }
 },
 "nbformat": 4,
 "nbformat_minor": 1
}
