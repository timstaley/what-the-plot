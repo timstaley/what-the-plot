{
 "cells": [
  {
   "cell_type": "code",
   "execution_count": null,
   "metadata": {},
   "outputs": [],
   "source": [
    "from IPython.display import display_html, display, Image"
   ]
  },
  {
   "cell_type": "markdown",
   "metadata": {},
   "source": [
    "# Overview: The traditional option\n",
    "\n",
    "## Matplotlib and friends\n"
   ]
  },
  {
   "cell_type": "code",
   "execution_count": null,
   "metadata": {},
   "outputs": [],
   "source": [
    "Image(url='https://matplotlib.org/2.1.1/_static/logo2.svg')"
   ]
  },
  {
   "cell_type": "markdown",
   "metadata": {},
   "source": [
    "### Style: Imperative  / Object Oriented\n",
    "\n",
    "### Pros\n",
    "* Hugely well supported with a venerable history (10 years old!)\n",
    "* Recipes for almost anything you can imagine\n",
    "* Lots of fine control\n",
    "* Many output options\n",
    "* Large ecosystem:\n",
    "    - Excellent jupyter integration\n",
    "    - Put plots in your sphinx-docs!\n",
    "    - Seaborn\n",
    "    - Pandas!\n",
    "    - etc\n",
    "\n",
    "### Cons\n",
    "* Plotting code can get **very verbose** even for quite straightforward plots.\n",
    "* Sometimes inconsistent interface (Do I want argument `c` or `color`? `size`, or `s`? etc.)\n",
    "* Mostly a manual annotation / labelling process even for tabular datasets.\n",
    "* Introductory materials sometimes encourage quick-and-dirty habits that don't scale well\n",
    "* No interactivity beyond scroll and zoom ([well OK, some](https://matplotlib.org/users/event_handling.html), but...)\n",
    "* Plotting gets slow beyond ~a few 10K datapoints.\n"
   ]
  },
  {
   "cell_type": "markdown",
   "metadata": {},
   "source": [
    "## Let's see some code!\n",
    "\n",
    "* ### [Scatterplots](scatterplots.ipynb)\n",
    "* ### [Histograms, subplots and KDEs](histograms.ipynb)\n",
    "* ### [Getting higher-dimensional: joint plots](joint.ipynb) "
   ]
  }
 ],
 "metadata": {
  "language_info": {
   "name": "python",
   "pygments_lexer": "ipython3"
  }
 },
 "nbformat": 4,
 "nbformat_minor": 1
}
