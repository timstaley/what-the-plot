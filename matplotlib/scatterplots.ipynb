{
 "cells": [
  {
   "cell_type": "code",
   "execution_count": null,
   "metadata": {},
   "outputs": [],
   "source": [
    "from IPython.display import display_html, display, Image"
   ]
  },
  {
   "cell_type": "markdown",
   "metadata": {},
   "source": [
    "# Scatterplots\n",
    "## Via Matplotlib and friends\n"
   ]
  },
  {
   "cell_type": "markdown",
   "metadata": {},
   "source": [
    "### Preamble:"
   ]
  },
  {
   "cell_type": "code",
   "execution_count": null,
   "metadata": {},
   "outputs": [],
   "source": [
    "import numpy as np\n",
    "import pandas as pd\n",
    "import matplotlib.pyplot as plt\n",
    "import seaborn as sns\n",
    "import whattheplot as wtp"
   ]
  },
  {
   "cell_type": "markdown",
   "metadata": {},
   "source": [
    "Hint: setting the `%matplotlib inline` magic will reset your rcParams - so set them afterwards!"
   ]
  },
  {
   "cell_type": "code",
   "execution_count": null,
   "metadata": {},
   "outputs": [],
   "source": [
    "%matplotlib inline"
   ]
  },
  {
   "cell_type": "code",
   "execution_count": null,
   "metadata": {},
   "outputs": [],
   "source": [
    "# Tweak the plot sizing:\n",
    "plt.rcParams['figure.figsize']=(8,6)\n",
    "# plt.rcParams['figure.dpi']=100\n",
    "\n",
    "# And also tweak the font-sizing via a seaborn shortcut:\n",
    "sns.set_context('talk')"
   ]
  },
  {
   "cell_type": "markdown",
   "metadata": {},
   "source": [
    "### Data"
   ]
  },
  {
   "cell_type": "code",
   "execution_count": null,
   "metadata": {},
   "outputs": [],
   "source": [
    "df = wtp.data.load_iris()\n",
    "df.head()"
   ]
  },
  {
   "cell_type": "markdown",
   "metadata": {},
   "source": [
    "### Scatter Plots, three ways\n",
    "With a moden Matplotlib installation (to accept the 'data' argument), \n",
    "we can generate similar plots with similar syntax from Pandas, MPL, or Seaborn, using very little code. \n",
    "I'll show the Pandas groupby-operation with Matplotlib, for the curious. Note how we have to explicitly loop over sub-groups and explicitly propagate the sub-group label:"
   ]
  },
  {
   "cell_type": "code",
   "execution_count": null,
   "metadata": {},
   "outputs": [],
   "source": [
    "ax = plt.gca()\n",
    "for species_name, subgroup_df in df.groupby(df.species):\n",
    "    ax.scatter('sepal_length', 'sepal_width', data=subgroup_df, label=species_name)\n",
    "ax.legend()\n",
    "ax.set_title('A Matplotlib scatterplot');"
   ]
  },
  {
   "cell_type": "markdown",
   "metadata": {},
   "source": [
    "In Pandas this is a one-liner, but AFAIK there's no 'color-by' shortcut. Sad panda."
   ]
  },
  {
   "cell_type": "code",
   "execution_count": null,
   "metadata": {},
   "outputs": [],
   "source": [
    "df.plot('sepal_length', 'sepal_width', kind='scatter', \n",
    "    legend=True, title='A Pandas scatterplot');"
   ]
  },
  {
   "cell_type": "markdown",
   "metadata": {},
   "source": [
    "Seaborn wraps this all up into a one-liner complete with extra options (*so many kwargs!*).\n",
    "Note the subtle but conceptually important switch - the `hue` variable **also signifies the subgroup-label**, because it's actually a categorical marker. (We'll see a lot of this sort of thing elsewhere.) We use the same mechanism to vary the marker-shape, via the `style` argument."
   ]
  },
  {
   "cell_type": "code",
   "execution_count": null,
   "metadata": {},
   "outputs": [],
   "source": [
    "ax = sns.scatterplot('sepal_length', 'sepal_width', data=df, \n",
    "                     hue='species', \n",
    "                     style='species'\n",
    "                    )\n",
    "ax.set_title('A Seaborn scatterplot');"
   ]
  }
 ],
 "metadata": {
  "language_info": {
   "name": "python",
   "pygments_lexer": "ipython3"
  }
 },
 "nbformat": 4,
 "nbformat_minor": 1
}
